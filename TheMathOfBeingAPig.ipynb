{
 "cells": [
  {
   "cell_type": "code",
   "execution_count": 2,
   "metadata": {},
   "outputs": [],
   "source": [
    "import matplotlib.pyplot as plt\n",
    "import numpy as np"
   ]
  },
  {
   "cell_type": "code",
   "execution_count": 107,
   "metadata": {},
   "outputs": [],
   "source": [
    "def get_single_roll_probability_matrix(max_score):\n",
    "    # p is a matrix with the property that p[i, j] is the probability of having a score of j, one roll after having a score of i.\n",
    "    # since 1 is an impossible score, we use this for the starting roll, and 0 as the final roll (after rolling a 1)\n",
    "    p = np.zeros((max_score, max_score))\n",
    "    p[0, 0] = 1 # this means that once you've rolled a 1, your score will be stuck at 0, i.e. with probability 1 your score will be 0\n",
    "    p[1:, 0] = 1/6 # for any score other than 0, there is a 1/6 chance to get to 0 after one roll\n",
    "    # Now for all the other transitions:\n",
    "    p[1, 2:7] = 1/6\n",
    "    for score in range(2, max_score-5):\n",
    "        p[score, score+2:score+7] = 1/6 # the probability of rolling anything between 2 and 6 is 1/6\n",
    "    p[max_score-5:, max_score-5:] = np.eye(5)\n",
    "    p[max_score-5:, 0] = 0\n",
    "    return p\n",
    "\n",
    "def get_score_probabilities_for_target_score(target_score):\n",
    "    p = get_single_roll_probability_matrix(target_score*3)\n",
    "    # set any score from target_score and above to be a sink\n",
    "    p[target_score:, 0] = 0\n",
    "    p[target_score:, target_score:] = np.eye(2*target_score)\n",
    "    # it can take at most target_score/2 turns to get to target_score, any more or less than that is guaranteed to end at a different score\n",
    "    p = np.linalg.matrix_power(p, target_score)\n",
    "    return p[1]\n",
    "    \n",
    "def get_expected_score_for_target_score(target_score):\n",
    "    score_probabilities = get_score_probabilities_for_target_score(target_score)\n",
    "    expected_score = 0\n",
    "    for score, probability in enumerate(score_probabilities):\n",
    "        expected_score += score*probability\n",
    "    return expected_score\n",
    "    "
   ]
  },
  {
   "cell_type": "code",
   "execution_count": 111,
   "metadata": {},
   "outputs": [
    {
     "data": {
      "text/plain": [
       "<BarContainer object of 38 artists>"
      ]
     },
     "execution_count": 111,
     "metadata": {},
     "output_type": "execute_result"
    },
    {
     "data": {
      "image/png": "[encoded data removed]",
      "text/plain": [
       "<Figure size 1080x720 with 1 Axes>"
      ]
     },
     "metadata": {
      "needs_background": "light"
     },
     "output_type": "display_data"
    }
   ],
   "source": [
    "x = np.arange(2,40)\n",
    "y = [get_expected_score_for_target_score(i) for i in x]\n",
    "fig, ax = plt.subplots(figsize = (15,10))\n",
    "ax.set_ylim((0,14))\n",
    "ax.set_xticks(x)\n",
    "ax.bar(x,y)"
   ]
  },
  {
   "cell_type": "code",
   "execution_count": 115,
   "metadata": {},
   "outputs": [
    {
     "name": "stdout",
     "output_type": "stream",
     "text": [
      "The best strategy is to stop after reaching the score of 20, this wil yield 8.14179489372703 points on average.\n"
     ]
    }
   ],
   "source": [
    "best_strategy = np.argmax(y) + 2\n",
    "expected_score = get_expected_score_for_target_score(best_strategy)\n",
    "print(f\"The best strategy is to stop after reaching the score of {best_strategy}, this wil yield {expected_score} points on average.\")"
   ]
  }
 ],
 "metadata": {
  "kernelspec": {
   "display_name": "Python 3",
   "language": "python",
   "name": "python3"
  },
  "language_info": {
   "codemirror_mode": {
    "name": "ipython",
    "version": 3
   },
   "file_extension": ".py",
   "mimetype": "text/x-python",
   "name": "python",
   "nbconvert_exporter": "python",
   "pygments_lexer": "ipython3",
   "version": "3.7.10"
  }
 },
 "nbformat": 4,
 "nbformat_minor": 4
}
